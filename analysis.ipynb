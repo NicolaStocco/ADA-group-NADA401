{
 "cells": [
  {
   "cell_type": "markdown",
   "id": "579b567a-2b80-4bf1-8cc1-c514da76ca50",
   "metadata": {},
   "source": [
    "# (ADA) Homework 1: Scoring the Language Model Olympics\n",
    "\n",
    "---\n",
    "\n",
    "By the end of this homework, we expect you to be able to:\n",
    "\n",
    "- Load data and handle data using pandas;\n",
    "- Navigate the documentation of Python packages by yourself;\n",
    "- Filter and tidy up noisy real-world datasets;\n",
    "- Aggregate your data in different (and hopefully helpful) ways;\n",
    "- Create meaningful visualizations to analyze the data;\n",
    "- Communicate your findings in a clear and concise manner\n",
    "\n",
    "---\n",
    "\n",
    "**Important Dates.**\n",
    "\n",
    "- Homework release: Fri 04 Oct 2024\n",
    "- Homework due: Sat 18 Oct 2024, 23:59\n",
    "- Grade release: Mon 04 Nov 2024\n",
    "\n",
    "**Some rules**\n",
    "\n",
    "- You are allowed to use any built-in Python library that comes with Anaconda. If you want to use an external library, you may do so, but must justify your choice.\n",
    "- Make sure you use the data folder provided in the repository in read-only mode. (Or alternatively, be sure you don’t change any of the files.)\n",
    "- Be sure to provide a concise textual description of your thought process, the assumptions you made, the solution you implemented, and explanations for your answers. A notebook that only has code cells will not suffice. To avoid confusion: use short comments for longer code answers.\n",
    "- For questions containing the /Discuss:/ prefix, answer not with code, but with a textual explanation (in markdown).\n",
    "- Back up any hypotheses and claims with data, since this is an important aspect of the course.\n",
    "- Please write all your comments in English, and use meaningful variable names in your code. Your repo should have a single notebook (plus the required data files) in the master/main branch. If there are multiple notebooks present, we will not grade anything.\n",
    "- We will not run your notebook for you! Rather, we will grade it as is, which means that only the results contained in your evaluated code cells will be considered, and we will not see the results in unevaluated code cells. Thus, be sure to hand in a fully-run and evaluated notebook. In order to check whether everything looks as intended, you can check the rendered notebook on the GitHub website once you have pushed your solution there.\n",
    "- In continuation to the previous point, interactive plots, such as those generated using the ‘plotly’ package, should be strictly avoided! Make sure to print results and/or dataframes that confirm you have properly addressed the task.\n",
    "\n",
    "**A Note on using Language Models (LMs)**\n",
    "\n",
    "If you try hard enough, you will likely get away with cheating. Fortunately, our job is not to police, but rather to educate! So, please consider the following:\n",
    "- Presumably, you are taking this course to learn something! LMs are not always right ([they often fail in silly ways](https://community.openai.com/t/why-9-11-is-larger-than-9-9-incredible/869824/4)). This course should prepare you to detect when they are wrong!\n",
    "- Some of the TAs on this course literally published many works on detecting machine-generated text.\n",
    "---"
   ]
  },
  {
   "cell_type": "markdown",
   "id": "4f85896e-c0ae-4ae3-af41-46149faa2278",
   "metadata": {},
   "source": [
    "## Context\n",
    "\n",
    "Context\n",
    "AI is booming! Newspapers, influencers, and your relatives all agree that AI is important. But while almost everyone agrees that AI is the future, much is unclear about what that future looks like…\n",
    "\n",
    "Freshly graduated from the EPFL, you are hired by the Swiss government to advise on a large-scale “AI integration” initiative code-named **\"NEUTRALITY\"** (Navigating Efficient Upgrades Through Robust Artificial Learning Integration Techniques Yearly). Convinced by the stunning progress in language modeling, the government would like to battle the growing shortages in the education sector by using LMs. Your job description: investigate which LMs might be best suited!\n",
    "\n",
    "You are given the results of three LMs on the [“Massive Multitask Language Understanding (MMLU)”](https://arxiv.org/abs/2009.03300) dataset to compare. This famous dataset consists of 57 subjects with multiple-choice questions, covering diverse subjects like mathematics, computer science, history, and law. Most providers of state-of-the-art LMs use this dataset to showcase the versatility of their latest models. Unfortunately, Horta-Ribeiro, the intern responsible for collecting the results, didn’t take EPFL’s famous ADA course. As a result, the collected datasets are slightly corrupted.\n",
    "\n",
    "### A very brief primer on Language Models\n",
    "Language models (LMs) are sophisticated statistical models designed to understand and generate human-like text. At their core, LMs are trained to predict the most likely continuation of a given input text. For example, given the input \"The cat sat on the,\" an LM might predict \"mat\" as a likely continuation.\n",
    "LMs are trained on vast text samples from various sources, including books, websites, and social media. This extensive training allows them to capture patterns and relationships in language, enabling them to generate coherent and contextually appropriate text across a wide range of topics and styles.\n",
    "\n",
    "While LMs can produce text that appears to be written by intelligent humans, it's important to note that their capabilities can diverge from human intelligence in unexpected ways. They may sometimes generate factually incorrect information or struggle with complex reasoning tasks.\n",
    "\n",
    "Two key concepts in understanding LMs are:\n",
    "1. **Tokens**: LMs process text using \"tokens\" rather than individual characters. Tokens can be words, parts of words, or punctuation marks. For example, the sentence \"I love AI!\" might be tokenized as [\"I\", \"love\", \"AI\", \"!\"]. Tokenization is the first step in both training and using an LM.\n",
    "2. **Context**: The input text provided to an LM is called the \"context.\" This context informs the model's predictions or generations. A longer or more specific context often leads to more accurate and relevant outputs.\n",
    "\n",
    "[See: Wikipedia entry on language models](https://en.wikipedia.org/wiki/Large_language_model)\n",
    "\n",
    "###  Files for this assignment\n",
    "This assignment is divided into three tasks, each of which should bring you a step closer to providing a recommendation toward project NEUTRALITY’s objectives:\n",
    "\n",
    "- **Task 1**: Inspecting the results and getting your first model ranking\n",
    "- **Task 2**: Inspecting the underlying data used to generate the results for possible biases\n",
    "- **Task 3**: Learning about tokens and providing a final recommendation\n",
    "\n",
    "\n",
    "```\n",
    "📁 PROJECT_NEUTRALITY\n",
    "│\n",
    "├── 📄 analysis.ipynb (the file you're currently reading!)\n",
    "├── 📄 requirements.txt (install into your environment)\n",
    "│\n",
    "├── 📁 task_1\n",
    "├── 📁 task_2\n",
    "└── 📁 task_2.5\n",
    "```   \n",
    " "
   ]
  },
  {
   "cell_type": "code",
   "execution_count": 1,
   "id": "95ce4c12-9681-401e-9489-aa0765b19d5d",
   "metadata": {},
   "outputs": [],
   "source": [
    "# please make sure you install the packages listed in the requirements.txt file in your environment!\n",
    "# using pip\n",
    "# pip install -r requirements.txt\n",
    "#\n",
    "# using Conda:\n",
    "# conda create --name <env_name> --file requirements.txt\n",
    "#\n",
    "# some basic imports\n",
    "import os\n",
    "import pandas as pd\n",
    "import numpy as np\n",
    "import matplotlib.pyplot as plt\n",
    "import warnings\n",
    "from scipy.stats import ttest_ind"
   ]
  },
  {
   "cell_type": "markdown",
   "id": "e62594ad-4f5f-4a46-80bc-deacf66b62e9",
   "metadata": {},
   "source": [
    "## Task 1 (18 points): What's in an average anyway?\n",
    "\n",
    "The files needed to complete task 1 can be found in the folder \"`data/task_1/`:\n",
    "```\n",
    "task_1/\n",
    "│\n",
    "├── mmlu_data/\n",
    "│   └── test.csv\n",
    "│\n",
    "└── lm_scores/\n",
    "    ├── lm_X.csv\n",
    "    ├── lm_Y.csv\n",
    "    └── lm_Z.csv\n",
    "```\n",
    "\n",
    "We will start by loading, (manually) inspecting, and cleaning the data. Although it doesn't seem \"glamorous\" (nor is it particularly fun...) - manually inspecting data is extremely important! In fact, it's one of the few things most AI and Data Science researchers agree on :). Next, we will take a first pass on ordering our Olympic podium between three LMs."
   ]
  },
  {
   "cell_type": "markdown",
   "id": "f8605646-79fa-4cb3-8137-b6951bd1e064",
   "metadata": {},
   "source": [
    "### 1.1 (1 pt)\n",
    " \n",
    "Load the subfiles contained in the `mmlu_data` and `lm_scores` folders into separate dataframes:\n",
    "- `df_test`\n",
    "- `df_x`\n",
    "- `df_y`\n",
    "- `df_z`\n",
    "\n",
    "for each, print their sizes."
   ]
  },
  {
   "cell_type": "code",
   "execution_count": 2,
   "id": "e6ce5e96-7de6-463d-a00b-6a4b2cfc8cb3",
   "metadata": {},
   "outputs": [],
   "source": [
    "df_x = pd.read_csv('task_1/lm_scores/lm_X.csv')\n",
    "df_y = pd.read_csv('task_1/lm_scores/lm_Y.csv')\n",
    "df_z = pd.read_csv('task_1/lm_scores/lm_Z.csv')\n",
    "df_test = pd.read_csv('task_1/mmlu_data/test.csv')"
   ]
  },
  {
   "cell_type": "markdown",
   "id": "acbda57d-7df2-4e33-b31c-52bc0af6753e",
   "metadata": {},
   "source": [
    "### 1.2 (4 pt)\n",
    "Unfortunately, LMs don't always output the format we want. In the column `result`, the value should be one of A, B, C, or D. \n",
    "\n",
    "A. For each of the LM score dataframes, use a `value_counts()` operation and print the results. \n",
    "\n",
    "B. /Discuss:/ Inspect the results and describe the types of answer formats you see. Besides the \"expected\" case, you should be able to find at least four unexpected formats."
   ]
  },
  {
   "cell_type": "code",
   "execution_count": 3,
   "id": "79936f23",
   "metadata": {},
   "outputs": [
    {
     "name": "stdout",
     "output_type": "stream",
     "text": [
      "Lm_X data:\n",
      "result\n",
      "A                                                                                    2733\n",
      "A                                                                                    1657\n",
      "B                                                                                    1412\n",
      "Answer: A                                                                            1398\n",
      "C                                                                                    1134\n",
      "                                                                                     ... \n",
      "(–3, 2), so the answer is C                                                             1\n",
      "sweet, so the answer is B                                                               1\n",
      "remembering how to tie a tie, so the answer is B                                        1\n",
      "anger, so the answer is A                                                               1\n",
      "creating insurmountable obstacles to the founding of factions, so the answer is A       1\n",
      "Name: count, Length: 145, dtype: int64\n",
      "----------------------------------------------------------------------------------------------------\n",
      "Lm_Y data:\n",
      "result\n",
      "D                                                                                                                 2894\n",
      "Answer: D                                                                                                         1718\n",
      "C                                                                                                                 1701\n",
      "B                                                                                                                 1240\n",
      "D                                                                                                                 1145\n",
      "                                                                                                                  ... \n",
      "4, so the answer is D                                                                                                1\n",
      "FindName ([\"Andrea\", \"Ben\", \"Chris\"], \"Ben\"), so the answer is C                                                     1\n",
      "had some degree of a nonaggression agreement since at least 1926, so the answer is A                                 1\n",
      "women held considerable power and responsibility within the domestic sphere of social life, so the answer is C       1\n",
      "ADP + P → ATP, so the answer is D                                                                                    1\n",
      "Name: count, Length: 141, dtype: int64\n",
      "----------------------------------------------------------------------------------------------------\n",
      "Lm_Z data:\n",
      "result\n",
      "D                                                                                       2257\n",
      "C                                                                                       2191\n",
      "B                                                                                       2127\n",
      "A                                                                                       2060\n",
      "Answer: D                                                                                777\n",
      "                                                                                        ... \n",
      "III and IV only, so the answer is D                                                        1\n",
      "have a positive value of equal magnitude on its capital account., so the answer is B       1\n",
      "a recession., so the answer is A                                                           1\n",
      "decreasing SRAS with constant AD., so the answer is B                                      1\n",
      "Voting participation for racial minority voters has increased., so the answer is C         1\n",
      "Name: count, Length: 560, dtype: int64\n",
      "----------------------------------------------------------------------------------------------------\n"
     ]
    }
   ],
   "source": [
    "# A\n",
    "\n",
    "print('Lm_X data:')\n",
    "print(df_x.result.value_counts())\n",
    "print('-'*100)\n",
    "\n",
    "print('Lm_Y data:')\n",
    "print(df_y.result.value_counts())\n",
    "print('-'*100)\n",
    "\n",
    "print('Lm_Z data:')\n",
    "print(df_z.result.value_counts())\n",
    "print('-'*100)"
   ]
  },
  {
   "cell_type": "code",
   "execution_count": 4,
   "id": "620f46cc",
   "metadata": {},
   "outputs": [
    {
     "data": {
      "text/plain": [
       "Index(['A', 'A ', 'B', 'Answer: A', 'C', 'D', 'B ', 'Answer: B', 'C ',\n",
       "       'Answer: D', 'D ', 'Answer: C', 'Not Sure', 'None of the above',\n",
       "       'Wrong, Wrong, so the answer is A'],\n",
       "      dtype='object', name='result')"
      ]
     },
     "execution_count": 4,
     "metadata": {},
     "output_type": "execute_result"
    }
   ],
   "source": [
    "# B\n",
    "\n",
    "#\"Answer: A/B/C/D\"\n",
    "#\"...., so the answer is A/B/C/D\"\n",
    "# \"A\" vs \"A \" with the space at the end\n",
    "# \"Not Sure\"\n",
    "# \"None of the above\"\n",
    "\n",
    "df_x.result.value_counts().index[:15]"
   ]
  },
  {
   "cell_type": "markdown",
   "id": "88c5551d-1968-427b-bdd6-51d996898e7c",
   "metadata": {},
   "source": [
    "### 1.3 (5 pt)\n",
    "Oh oh... That doesn't look great. Simply dropping all invalid answers seems overly wasteful, yet fixing all of these looks like a mess! Instead, let's focus for now on fixing just those answers of length < 10 characters that require only a single `str.replace()` operation. \n",
    "\n",
    "For example, if the answer looks like `--A--`, we could fix this by using the following simple function:\n",
    "\n",
    "```\n",
    "def clean_answer(s, pattern='-'):\n",
    "    return str(s).replace(pattern, '')\n",
    "\n",
    "dirty_answer = '--A--'\n",
    "clean_answer = clean_answer(dirty_answer)\n",
    "```\n",
    "\n",
    "A. Filter the three score dataframes to include only answers with less than 10 characters. Make a deep copy of the dataframes as you filter them.\n",
    "\n",
    "B. Modify the `clean_answer()` example function to clean the answers in the filtered data frames using the `apply()` functionality. Finally, make sure **all remaining answers are one of `A, B, C, or D`.**\n",
    "\n",
    "C. /Discuss:/ Compare the sizes of the original and filtered data frames. What do you see? Why might this be a problem?"
   ]
  },
  {
   "cell_type": "code",
   "execution_count": 5,
   "id": "aef1f933-20bf-426a-ac9d-a35e273b9bd2",
   "metadata": {},
   "outputs": [
    {
     "name": "stdout",
     "output_type": "stream",
     "text": [
      "Before cleaning:\n",
      "result\n",
      "A            2733\n",
      "A            1657\n",
      "B            1412\n",
      "Answer: A    1398\n",
      "C            1134\n",
      "D            1124\n",
      "B             793\n",
      "Answer: B     760\n",
      "C             622\n",
      "Answer: D     613\n",
      "D             596\n",
      "Answer: C     594\n",
      "Not Sure       73\n",
      "Name: count, dtype: int64\n",
      "----------------------------------------------------------------------------------------------------\n",
      "After cleaning:\n",
      "result\n",
      "A            2733\n",
      "A            1657\n",
      "B            1412\n",
      "Answer: A    1398\n",
      "C            1134\n",
      "D            1124\n",
      "B             793\n",
      "Answer: B     760\n",
      "C             622\n",
      "Answer: D     613\n",
      "D             596\n",
      "Answer: C     594\n",
      "Name: count, dtype: int64\n"
     ]
    }
   ],
   "source": [
    "# A\n",
    "df_x_10 = df_x[df_x.result.str.len() < 10]\n",
    "df_y_10 = df_y[df_y.result.str.len() < 10]\n",
    "df_z_10 = df_z[df_z.result.str.len() < 10]\n",
    "\n",
    "print('Before cleaning:')\n",
    "print(df_x_10.result.value_counts())\n",
    "print('-'*100)\n",
    "\n",
    "#Since the data is not clean, we need to clean it first\n",
    "# We will remove the \"Not Sure\" answer instead of assigning random values to it. This is feasible because the number of \"Not Sure\" answers is very low.\n",
    "\n",
    "df_x_10 = df_x_10[df_x_10.result != 'Not Sure']\n",
    "df_y_10 = df_y_10[df_y_10.result != 'Not Sure']\n",
    "df_z_10 = df_z_10[df_z_10.result != 'Not Sure']\n",
    "\n",
    "print('After cleaning:')\n",
    "print(df_x_10.result.value_counts())"
   ]
  },
  {
   "cell_type": "code",
   "execution_count": 6,
   "id": "fd54f296",
   "metadata": {},
   "outputs": [
    {
     "name": "stdout",
     "output_type": "stream",
     "text": [
      "Before cleaning:\n",
      "x: 13882 y: 13978 z: 13923\n",
      "After cleaning:\n",
      "x: 13436 y: 13551 z: 12753\n"
     ]
    }
   ],
   "source": [
    "# B\n",
    "def clean_answer1(s, pattern=' '):\n",
    "    #Remove any white spaces in the string\n",
    "    return str(s).replace(pattern, '')\n",
    "\n",
    "def clean_answer2(s, pattern=':'):\n",
    "    #Remove any white spaces in the string\n",
    "    s = str(s).split(pattern)\n",
    "    return s[-1]\n",
    "\n",
    "df_x_10['result'] = df_x_10['result'].apply(clean_answer1)\n",
    "df_x_10['result'] = df_x_10['result'].apply(clean_answer2)\n",
    "df_y_10['result'] = df_y_10['result'].apply(clean_answer1)\n",
    "df_y_10['result'] = df_y_10['result'].apply(clean_answer2)\n",
    "df_z_10['result'] = df_z_10['result'].apply(clean_answer1)\n",
    "df_z_10['result'] = df_z_10['result'].apply(clean_answer2)\n",
    "\n",
    "print('Before cleaning:')\n",
    "print('x:',len(df_x), 'y:', len(df_y), 'z:',len(df_z))\n",
    "print('After cleaning:')\n",
    "print('x:',len(df_x_10), 'y:', len(df_y_10), 'z:', len(df_z_10))\n"
   ]
  },
  {
   "cell_type": "markdown",
   "id": "2415cd9b",
   "metadata": {},
   "source": [
    "C. /Discuss:/\n",
    "\n",
    "For the LM Z dataset, we observe that we had to drop 1170 datapoints, which is 8.8% of the dataset. This is a significant amount of data, especially since the data we dropped had an explanation for the answer that was given. This is crucial for Language Model tasks, as we are often looking to find explanations for the answer rather than just the answer. This lost data could be extracted by using better data pre-processing techniques, where we extracted the answers from the textual explanations given.\n",
    "\n",
    "Moreover, completely ignoring \"Not Sure\" and \"None of the above\" might compromise the actual evaluation of the models as we are not taking into account effectively \"wrong\" answers."
   ]
  },
  {
   "cell_type": "markdown",
   "id": "da1cf129-09dd-47b1-9737-2c4d57eb8853",
   "metadata": {},
   "source": [
    "### 1.4 (3 pt)\n",
    "\n",
    "Now that our answer columns are nicely formatted, let's take a look at model performance:\n",
    "\n",
    "A. Both the `MMLU` dataframes and the language model score data frames have the columns `question_id`. For each of the language model score data frames, use an inner join operation with the `df_test` dataframe on the `question_id` column.\n",
    "\n",
    "B. Add a new column to each of the resulting dataframes called `correct`, that checks if the model's answer in `result` is the same as the expected answer in the column `answer`. Then, print the average score of each model."
   ]
  },
  {
   "cell_type": "code",
   "execution_count": 7,
   "id": "e66b36f3-f5a4-4237-9b48-39b21716d7aa",
   "metadata": {},
   "outputs": [],
   "source": [
    "# A\n",
    "df_x_join = pd.merge(df_x_10, df_test, on='question_id', how='inner', suffixes=('_df_x', '_df_test'))\n",
    "df_y_join = pd.merge(df_y_10, df_test, on='question_id', how='inner', suffixes=('_df_y', '_df_test'))\n",
    "df_z_join = pd.merge(df_z_10, df_test, on='question_id', how='inner', suffixes=('_df_z', '_df_test'))"
   ]
  },
  {
   "cell_type": "code",
   "execution_count": 8,
   "id": "50b024d2",
   "metadata": {},
   "outputs": [
    {
     "name": "stdout",
     "output_type": "stream",
     "text": [
      "Average Score for LM X: 76.75 %\n",
      "Average Score for LM Y: 74.58 %\n",
      "Average Score for LM Z: 66.33 %\n"
     ]
    }
   ],
   "source": [
    "# B\n",
    "df_x_join['correct'] = df_x_join['result'] == df_x_join['answer']\n",
    "df_y_join['correct'] = df_y_join['result'] == df_y_join['answer']\n",
    "df_z_join['correct'] = df_z_join['result'] == df_z_join['answer']\n",
    "\n",
    "print('Average Score for LM X:', 100*df_x_join.correct.mean().__round__(4), '%')\n",
    "print('Average Score for LM Y:', 100*df_y_join.correct.mean().__round__(4), '%')\n",
    "print('Average Score for LM Z:', 100*df_z_join.correct.mean().__round__(4), '%')"
   ]
  },
  {
   "cell_type": "markdown",
   "id": "69decfd8-8083-4c2f-8263-a153d55efede",
   "metadata": {},
   "source": [
    "### 1.5 (5 pt)\n",
    "\n",
    "Hmmm, something doesn't seem quite right. Let's investigate how \"balanced\" this dataset is:\n",
    "\n",
    "A. For each of the 57 subjects in the MMLU, compare the number of questions answered by each model. Print the subjects for which there is a more than 10% difference.\n",
    "\n",
    "B. Propose and implement a reasonable way to rebalance the results. (e.g., while throwing away 100% of the results perfectly rebalances the results, it is not reasonable).\n",
    "\n",
    "C. Finally, print the updated accuracy on the rebalanced data.\n",
    "\n",
    "**hint:**:\n",
    "- (A) For a given subject, let model X and model Y have answered 181 and 200 questions respectively. You can consider this a 10% difference from the perspective of X since: (200 - 181) / 181 > 0.10"
   ]
  },
  {
   "cell_type": "code",
   "execution_count": 9,
   "id": "19463002-732b-405b-8b44-77f702bdb665",
   "metadata": {},
   "outputs": [
    {
     "name": "stdout",
     "output_type": "stream",
     "text": [
      "subject                  \tM1_X \tM1_Y \tM1_Z \n",
      "college chemistry        \t   96\t   98\t   84\n",
      "college computer science \t   97\t   98\t   84\n",
      "computer security        \t   95\t   98\t   87\n",
      "formal logic             \t  109\t  123\t  113\n",
      "high school geography    \t  195\t  193\t  176\n",
      "logical fallacies        \t  154\t  136\t  147\n",
      "medical genetics         \t   97\t   98\t   89\n",
      "moral disputes           \t  329\t  304\t  250\n",
      "moral scenarios          \t  737\t  865\t  774\n"
     ]
    }
   ],
   "source": [
    "# A\n",
    "print(\"{:25s}\\t{:5s}\\t{:5s}\\t{:5s}\".format(\"subject\", \"M1_X\", \"M1_Y\", \"M1_Z\"))\n",
    "\n",
    "for subject in df_x_join.subject.unique():\n",
    "    filter_x = len(df_x_join[df_x_join.subject == subject])\n",
    "    filter_y = len(df_y_join[df_y_join.subject == subject])\n",
    "    filter_z = len(df_z_join[df_z_join.subject == subject])\n",
    "\n",
    "    if abs(filter_x - filter_y) > 0.1 * filter_x or abs(filter_x - filter_y) > 0.1 * filter_y or abs(filter_x - filter_z) > 0.1 * filter_x or abs(filter_x - filter_z) > 0.1 * filter_z or abs(filter_y - filter_z) > 0.1 * filter_y or abs(filter_y - filter_z) > 0.1 * filter_z:\n",
    "        print(\"{:25s}\\t{:5d}\\t{:5d}\\t{:5d}\".format(subject, filter_x, filter_y, filter_z))\n"
   ]
  },
  {
   "cell_type": "code",
   "execution_count": 10,
   "id": "2fb8c324",
   "metadata": {},
   "outputs": [],
   "source": [
    "# B\n",
    "\n",
    "# For each subject which is imbalanced, we will take the minimum answered questions\n",
    "# and sample a random number of questions from the other 2 such that it does not cross 10% of the minimum answered questions. \n",
    "\n",
    "import numpy as np\n",
    "\n",
    "for subject in df_x_join.subject.unique():\n",
    "    filter_x = len(df_x_join[df_x_join.subject == subject])\n",
    "    filter_y = len(df_y_join[df_y_join.subject == subject])\n",
    "    filter_z = len(df_z_join[df_z_join.subject == subject])\n",
    "\n",
    "    if abs(filter_x - filter_y) > 0.1 * filter_x or abs(filter_x - filter_y) > 0.1 * filter_y or abs(filter_x - filter_z) > 0.1 * filter_x or abs(filter_x - filter_z) > 0.1 * filter_z or abs(filter_y - filter_z) > 0.1 * filter_y or abs(filter_y - filter_z) > 0.1 * filter_z:\n",
    "        min_filter = min(filter_x, filter_y, filter_z)\n",
    "        #max_filter = int(1.1 * min_filter)\n",
    "        #new_x = df_x_join[df_x_join.subject == subject].sample(np.random.randint(min_filter, 1 + min(max_filter, filter_x)), replace=False)\n",
    "        #new_y = df_y_join[df_y_join.subject == subject].sample(np.random.randint(min_filter, 1 + min(max_filter, filter_y)), replace=False)\n",
    "        #new_z = df_z_join[df_z_join.subject == subject].sample(np.random.randint(min_filter, 1 + min(max_filter, filter_z)), replace=False)  \n",
    "        new_x = df_x_join[df_x_join.subject == subject].sample(min_filter, replace=False)\n",
    "        new_y = df_y_join[df_y_join.subject == subject].sample(min_filter, replace=False)\n",
    "        new_z = df_z_join[df_z_join.subject == subject].sample(min_filter, replace=False)      \n",
    "        df_x_join = pd.concat([df_x_join[df_x_join.subject != subject], new_x])\n",
    "        df_y_join = pd.concat([df_y_join[df_y_join.subject != subject], new_y])\n",
    "        df_z_join = pd.concat([df_z_join[df_z_join.subject != subject], new_z])"
   ]
  },
  {
   "cell_type": "code",
   "execution_count": 11,
   "id": "affc3746",
   "metadata": {},
   "outputs": [
    {
     "name": "stdout",
     "output_type": "stream",
     "text": [
      "Average Score for LM X: 76.685 %\n",
      "Average Score for LM Y: 74.64 %\n",
      "Average Score for LM Z: 66.29 %\n"
     ]
    }
   ],
   "source": [
    "# C\n",
    "\n",
    "df_x_join['correct'] = df_x_join['result'] == df_x_join['answer']\n",
    "df_y_join['correct'] = df_y_join['result'] == df_y_join['answer']\n",
    "df_z_join['correct'] = df_z_join['result'] == df_z_join['answer']\n",
    "\n",
    "print('Average Score for LM X:', 100*df_x_join.correct.mean().__round__(5), '%')\n",
    "print('Average Score for LM Y:', 100*df_y_join.correct.mean().__round__(4), '%')\n",
    "print('Average Score for LM Z:', 100*df_z_join.correct.mean().__round__(4), '%')"
   ]
  },
  {
   "cell_type": "markdown",
   "id": "292b2f61-0529-4b6d-a3a7-af786a4d79ae",
   "metadata": {},
   "source": [
    "## Task 2 (26 points): What do you mean A > D > B > C...?\n",
    "\n",
    "Nice work! Having successfully inspected, cleaned, and rebalanced the provided data, you head over to director of the government's NEUTRALITY project. Ms. Sakota is happy with your work so far, but worried that the sloppy intern might have done more undetected damage. To be sure, she orders a new set of evaluations of all models on both MMLU and another dataset.\n",
    "\n",
    "After cleaning up and rebalancing, you are left with the concatenated score files in the second folder `task_2`:\n",
    "```\n",
    "task_2/\n",
    "│\n",
    "└── lm_scores_mmlu.csv\n",
    "│\n",
    "└── lm_scores_other.csv\n",
    "```\n",
    "\n",
    "Each has a new column called `model_name`, which is one of `X, Y` or `Z`.\n",
    "\n",
    "\n",
    "\n",
    "_NOTE: **only** use data from `task_2` and `task_2_5` for this assignment! The values in `lm_scores_mmlu.csv` will NOT be the same as the dataframes you finished in task 1. This is due to \"randomness\" or \"temperature\" in language model inference. This can slightly shift around generative results. (Conveniently: it also ensures any mistakes made in Task 1 don't propogate further ;) )_"
   ]
  },
  {
   "cell_type": "code",
   "execution_count": 12,
   "id": "a889a76b-e034-4d2f-929e-0ef1f250a0a0",
   "metadata": {},
   "outputs": [],
   "source": [
    "# PROVIDED CODE\n",
    "df_mmlu = pd.read_csv('task_2/lm_scores_mmlu.csv')\n",
    "df_other = pd.read_csv('task_2/lm_scores_other.csv')"
   ]
  },
  {
   "cell_type": "markdown",
   "id": "c31edde3-cc91-4d08-81c7-b5e98cf0ff9c",
   "metadata": {},
   "source": [
    "### 2.1 (4 pt)\n",
    "\n",
    "Let's explore the new results:\n",
    "\n",
    "A. Compute the mean accuracy and standard errors of each model on both datasets and print the results.\n",
    "\n",
    "B. Then, show your results in a bar plot using standard errors with a 95% confidence interval around the mean. Make sure the plot is easy to read and well annotated.\n",
    "\n",
    "C. /Discuss:/ the plot you created: (i) can you say that one of the models is the best? (ii) is there anything that seems odd?"
   ]
  },
  {
   "cell_type": "code",
   "execution_count": 13,
   "id": "56fe8cca-acd1-4f5e-a938-e8d3a850f220",
   "metadata": {},
   "outputs": [
    {
     "name": "stdout",
     "output_type": "stream",
     "text": [
      "MMLU\n",
      "Accuracy x = 0.74\t||\tstd_error = 0.00404\n",
      "Accuracy y = 0.76\t||\tstd_error = 0.00394\n",
      "Accuracy z = 0.66\t||\tstd_error = 0.00439\n",
      "\n",
      "Other\n",
      "Accuracy x = 0.79\t||\tstd_error = 0.00667\n",
      "Accuracy y = 0.72\t||\tstd_error = 0.00732\n",
      "Accuracy z = 0.67\t||\tstd_error = 0.00766\n",
      "\n"
     ]
    }
   ],
   "source": [
    "def accuracy(df):\n",
    "    return df[df.correct == True].correct.size / df.correct.size \n",
    "\n",
    "def std_error(df):\n",
    "    n = df.shape[0]\n",
    "    return np.std(df.correct) / np.sqrt(n)\n",
    "\n",
    "mmlu_x = df_mmlu[df_mmlu.model_name == 'X']\n",
    "mmlu_y = df_mmlu[df_mmlu.model_name == 'Y']\n",
    "mmlu_z = df_mmlu[df_mmlu.model_name == 'Z']\n",
    "\n",
    "other_x = df_other[df_other.model_name == 'X']\n",
    "other_y = df_other[df_other.model_name == 'Y']\n",
    "other_z = df_other[df_other.model_name == 'Z']\n",
    "\n",
    "print(\"MMLU\\nAccuracy x = {:.2f}\\t||\\tstd_error = {:.5f}\\nAccuracy y = {:.2f}\\t||\\tstd_error = {:.5f}\\nAccuracy z = {:.2f}\\t||\\tstd_error = {:.5f}\\n\".format(accuracy(mmlu_x), std_error(mmlu_x), accuracy(mmlu_y), std_error(mmlu_y), accuracy(mmlu_z), std_error(mmlu_z)))\n",
    "print(\"Other\\nAccuracy x = {:.2f}\\t||\\tstd_error = {:.5f}\\nAccuracy y = {:.2f}\\t||\\tstd_error = {:.5f}\\nAccuracy z = {:.2f}\\t||\\tstd_error = {:.5f}\\n\".format(accuracy(other_x), std_error(other_x), accuracy(other_y), std_error(other_y), accuracy(other_z), std_error(other_z)))"
   ]
  },
  {
   "cell_type": "code",
   "execution_count": 14,
   "id": "d3a176c6",
   "metadata": {},
   "outputs": [
    {
     "data": {
      "text/plain": [
       "(0.5, 0.85)"
      ]
     },
     "execution_count": 14,
     "metadata": {},
     "output_type": "execute_result"
    },
    {
     "data": {
      "image/png": "[encoded data removed]",
      "text/plain": [
       "<Figure size 1000x500 with 2 Axes>"
      ]
     },
     "metadata": {},
     "output_type": "display_data"
    }
   ],
   "source": [
    "# B\n",
    "\n",
    "mmlu_mean_x = df_mmlu[df_mmlu['model_name'] == 'X'].correct.mean()\n",
    "mmlu_mean_y = df_mmlu[df_mmlu['model_name'] == 'Y'].correct.mean()\n",
    "mmlu_mean_z = df_mmlu[df_mmlu['model_name'] == 'Z'].correct.mean()\n",
    "means_mmlu = [mmlu_mean_x, mmlu_mean_y, mmlu_mean_z]\n",
    "std_mmlu_x = df_mmlu[df_mmlu['model_name'] == 'X'].correct.std()\n",
    "std_mmlu_y = df_mmlu[df_mmlu['model_name'] == 'Y'].correct.std()\n",
    "std_mmlu_z = df_mmlu[df_mmlu['model_name'] == 'Z'].correct.std()\n",
    "std_mmlu = [std_mmlu_x, std_mmlu_y, std_mmlu_z]\n",
    "ci_mmlu_x = 1.96 * std_mmlu_x / np.sqrt(len(df_mmlu[df_mmlu['model_name'] == 'X']))\n",
    "ci_mmlu_y = 1.96 * std_mmlu_y / np.sqrt(len(df_mmlu[df_mmlu['model_name'] == 'Y']))\n",
    "ci_mmlu_z = 1.96 * std_mmlu_z / np.sqrt(len(df_mmlu[df_mmlu['model_name'] == 'Z']))\n",
    "ci_mmlu = [ci_mmlu_x, ci_mmlu_y, ci_mmlu_z]\n",
    "\n",
    "other_mean_x = df_other[df_other['model_name'] == 'X'].correct.mean()\n",
    "other_mean_y = df_other[df_other['model_name'] == 'Y'].correct.mean()\n",
    "other_mean_z = df_other[df_other['model_name'] == 'Z'].correct.mean()\n",
    "means_other = [other_mean_x, other_mean_y, other_mean_z]\n",
    "std_other_x = df_other[df_other['model_name'] == 'X'].correct.std()\n",
    "std_other_y = df_other[df_other['model_name'] == 'Y'].correct.std()\n",
    "std_other_z = df_other[df_other['model_name'] == 'Z'].correct.std()\n",
    "std_other = [std_other_x, std_other_y, std_other_z]\n",
    "ci_other_x = 1.96 * std_other_x / np.sqrt(len(df_other[df_other['model_name'] == 'X']))\n",
    "ci_other_y = 1.96 * std_other_y / np.sqrt(len(df_other[df_other['model_name'] == 'Y']))\n",
    "ci_other_z = 1.96 * std_other_z / np.sqrt(len(df_other[df_other['model_name'] == 'Z']))\n",
    "ci_other = [ci_other_x, ci_other_y, ci_other_z]\n",
    "\n",
    "# Plots\n",
    "fig, ax = plt.subplots(1, 2, figsize=(10, 5),sharey=True, sharex=True)\n",
    "fig.suptitle('Model-wise Accuracy in MMLU data with their 95% Confidence Intervals')\n",
    "\n",
    "ax[0].bar([1,2,3], means_mmlu, yerr=ci_mmlu, align='center', alpha=0.5)\n",
    "ax[0].set_xticks([1,2,3])\n",
    "ax[0].set_xticklabels(['Model X','Model Y','Model Z'])\n",
    "ax[0].set_ylim(0.5, 0.85)\n",
    "ax[0].set_ylabel('Mean Accuracy')\n",
    "\n",
    "ax[1].bar([1,2,3], means_other, yerr=ci_other, align='center', alpha=0.5, color='orange')\n",
    "ax[1].set_ylim(0.5, 0.85)\n"
   ]
  },
  {
   "cell_type": "markdown",
   "id": "65c9fbfe",
   "metadata": {},
   "source": [
    "C. /Discuss:/ \n",
    "\n",
    "We can confidently say that Models X and Y are better than Model Z. This is because the upper bound of the 95% confidence interval of model Z never crosses the 95% CI lower bound of either Models X and Y, thus mean that Model Z is statistically worse than the other two models. Between Models X and Y, we can not claim which of the two is better, because they have different relative performances on the two datasets as shown in the graphs."
   ]
  },
  {
   "cell_type": "markdown",
   "id": "eee0ec62-f2d1-4bae-a6f6-221320d602cb",
   "metadata": {},
   "source": [
    "### 2.2 (5 pt)\n",
    "\n",
    "Ms. Sakota has assured you that both datasets contain questions of similar difficulty, so, what could be going on here?\n",
    "\n",
    "A. What is the distribution of correct answers (A, B, C, D) for each dataset? Create a bar chart to visualize this.\n",
    "\n",
    "B. Perform a chi-square test at $\\alpha = 0.05$, of independence to determine if there's a significant difference in the distribution of correct answers between the two datasets. What do you conclude?\n",
    "\n",
    "**hints**:\n",
    "- for (A), keep in mind that df_mmlu and df_other contain the results of all models, i.e., the `question_id` column is duplicated.\n",
    "- for (A), take care to clearly annotate the bar chart, e.g., title, y-label, legend.\n",
    "- for (B), clearly state the null hypothesis and alternative hypothesis\n",
    "- use the `chi2_contingency` function from `scipy.stats`\n",
    "- format your results from answer (A) as a 2D array"
   ]
  },
  {
   "cell_type": "code",
   "execution_count": 15,
   "id": "30b16f70-93e0-4a19-8a6d-b3ae5a75ae65",
   "metadata": {},
   "outputs": [
    {
     "name": "stdout",
     "output_type": "stream",
     "text": [
      "        MMLU Data  Other Data\n",
      "answer                       \n",
      "D            3739         641\n",
      "C            3403         924\n",
      "B            2943        1116\n",
      "A            1611        1078\n"
     ]
    },
    {
     "data": {
      "image/png": "[encoded data removed]",
      "text/plain": [
       "<Figure size 1000x600 with 1 Axes>"
      ]
     },
     "metadata": {},
     "output_type": "display_data"
    }
   ],
   "source": [
    "# A\n",
    "#df_mmlu.drop_duplicates( subset='question_id' , inplace=False).answer.value_counts().plot(kind='barh')\n",
    "\n",
    "df_dist = pd.concat([df_mmlu.drop_duplicates( subset='question_id' , inplace=False).answer.value_counts(), df_other.drop_duplicates( subset='question_id' , inplace=False).answer.value_counts()], axis=1)\n",
    "\n",
    "df_dist.columns = ['MMLU Data', 'Other Data']\n",
    "\n",
    "print(df_dist)\n",
    "\n",
    "ax = df_dist.plot.bar(rot=0, color={\"MMLU Data\": \"blue\", \"Other Data\": \"red\"}, figsize=(10,6))\n",
    "ax.set_xlabel('Correct Answer')\n",
    "ax.set_ylabel('Number of Questions')\n",
    "plt.title('Distribution of Correct Answers in MMLU and Other Data')\n",
    "plt.show()"
   ]
  },
  {
   "cell_type": "code",
   "execution_count": 16,
   "id": "92392cd7",
   "metadata": {},
   "outputs": [
    {
     "name": "stdout",
     "output_type": "stream",
     "text": [
      "Chi-Square Statistic: 629.3958675644751\n",
      "P-Value: 4.270849602795191e-136\n",
      "Degrees of Freedom: 3\n"
     ]
    }
   ],
   "source": [
    "# B\n",
    "from scipy.stats import chi2_contingency\n",
    "\n",
    "\n",
    "# Null Hypothesis: The distribution of correct answers is independent of the dataset. Alternatively, the distribution of correct answers is the same in both datasets.\n",
    "# Alternative Hypothesis: The distribution of correct answers is dependent on the dataset.\n",
    "\n",
    "chi2, p, dof, ex = chi2_contingency(np.array(df_dist))\n",
    "print('Chi-Square Statistic:', chi2)\n",
    "print('P-Value:', p)\n",
    "print('Degrees of Freedom:', dof)\n",
    "\n",
    "# Since the P-value is less than 0.05, we reject the null hypothesis and conclude that the distribution of correct answers \n",
    "# is dependent on the dataset, and hence they differ for the MMLU dataset and the \"Other dataset\"."
   ]
  },
  {
   "cell_type": "markdown",
   "id": "2d3125ad-5a7e-44e7-999a-a0ff99855d39",
   "metadata": {},
   "source": [
    "### 2.3 (7 pt)\n",
    "\n",
    "Let's dive in deeper:\n",
    "\n",
    "A. What is language model X's mean accuracy conditioned on the four answer options for each dataset?\n",
    "\n",
    "B. Compare LM X's performance when the correct answer is \"A\" between the two datasets. Use a T-test with CI = 0.95. What do you conclude?\n",
    "\n",
    "C. Compare LM X's performance when the correct answer is \"A\" vs. \"C or D\" for each dataset. Use a T-test with CI = 0.95. What do you conclude?"
   ]
  },
  {
   "cell_type": "code",
   "execution_count": 17,
   "id": "39097a11-8efe-46d1-8bc3-5587bb58d199",
   "metadata": {},
   "outputs": [
    {
     "name": "stdout",
     "output_type": "stream",
     "text": [
      "Model X and MMLU Data:\n",
      "A: 0.973\n",
      "B: 0.799\n",
      "C: 0.708\n",
      "D: 0.634\n",
      "----------------------------------------------------------------------------------------------------\n",
      "Model X and Other Data:\n",
      "A: 0.974\n",
      "B: 0.806\n",
      "C: 0.676\n",
      "D: 0.604\n"
     ]
    }
   ],
   "source": [
    "# A\n",
    "print('Model X and MMLU Data:')\n",
    "df_mmlu_x = df_mmlu[df_mmlu['model_name'] == 'X']\n",
    "print('A: {:.3f}'.format(df_mmlu_x[df_mmlu_x['answer'] == 'A'].correct.mean()))\n",
    "print('B: {:.3f}'.format(df_mmlu_x[df_mmlu_x['answer'] == 'B'].correct.mean()))\n",
    "print('C: {:.3f}'.format(df_mmlu_x[df_mmlu_x['answer'] == 'C'].correct.mean()))\n",
    "print('D: {:.3f}'.format(df_mmlu_x[df_mmlu_x['answer'] == 'D'].correct.mean()))\n",
    "\n",
    "print('-'*100)\n",
    "print('Model X and Other Data:')\n",
    "df_other_x = df_other[df_other['model_name'] == 'X']\n",
    "print('A: {:.3f}'.format(df_other_x[df_other_x['answer'] == 'A'].correct.mean()))\n",
    "print('B: {:.3f}'.format(df_other_x[df_other_x['answer'] == 'B'].correct.mean()))\n",
    "print('C: {:.3f}'.format(df_other_x[df_other_x['answer'] == 'C'].correct.mean()))\n",
    "print('D: {:.3f}'.format(df_other_x[df_other_x['answer'] == 'D'].correct.mean()))"
   ]
  },
  {
   "cell_type": "code",
   "execution_count": 18,
   "id": "9ae67c09",
   "metadata": {},
   "outputs": [
    {
     "name": "stdout",
     "output_type": "stream",
     "text": [
      "\n",
      "P-Value for A: 0.8332191972699248\n"
     ]
    }
   ],
   "source": [
    "# B\n",
    "from scipy.stats import ttest_ind\n",
    "\n",
    "#H0: LM X's performance when the correct answer is \"A\" between the two datasets is the same\n",
    "#H1: LM X's performance when the correct answer is \"A\" between the two datasets is different\n",
    "\n",
    "tstat, pval = ttest_ind(df_mmlu_x[df_mmlu_x['answer'] == 'A'].correct, df_other_x[df_other_x['answer'] == 'A'].correct)\n",
    "print('\\nP-Value for A:', pval)\n"
   ]
  },
  {
   "cell_type": "markdown",
   "id": "2784c34b",
   "metadata": {},
   "source": [
    "Since the P-Value is greater then 0.05, we accept the null hypothesis H0: the performance of the model X when answer is \"A\" is the same in the 2 datasets"
   ]
  },
  {
   "cell_type": "code",
   "execution_count": 19,
   "id": "636af6a6",
   "metadata": {},
   "outputs": [
    {
     "name": "stdout",
     "output_type": "stream",
     "text": [
      "P-Value for A vs C/D in MMLU Data: 5.334906497224946e-139\n",
      "P-Value for A vs C/D in Other Data: 5.900859805611251e-96\n"
     ]
    }
   ],
   "source": [
    "# C\n",
    "#H0: LM X's performance when the correct answer is \"A\" vs LM X's performance when the correct answer is \"C or D\" is the same in mmlu\n",
    "\n",
    "df_mmlu_x[df_mmlu_x['answer'] == 'A'].correct.value_counts()\n",
    "df_mmlu_x[(df_mmlu_x['answer'] == 'C') | (df_mmlu_x['answer'] == 'D')].correct.value_counts()\n",
    "\n",
    "df_other_x[df_other_x['answer'] == 'A'].correct.value_counts()\n",
    "df_other_x[(df_other_x['answer'] == 'C') | (df_other_x['answer'] == 'D')].correct.value_counts()\n",
    "\n",
    "tstat, pval = ttest_ind(df_mmlu_x[df_mmlu_x['answer'] == 'A'].correct, df_mmlu_x[(df_mmlu_x['answer'] == 'C') | (df_mmlu_x['answer'] == 'D')].correct)\n",
    "print('P-Value for A vs C/D in MMLU Data:', pval)\n",
    "\n",
    "tstat, pval = ttest_ind(df_other_x[df_other_x['answer'] == 'A'].correct, df_other_x[(df_other_x['answer'] == 'C') | (df_other_x['answer'] == 'D')].correct)\n",
    "print('P-Value for A vs C/D in Other Data:', pval)"
   ]
  },
  {
   "cell_type": "markdown",
   "id": "3d98d61a",
   "metadata": {},
   "source": [
    "For both of the datasets we can refuse the null hypothesis, because in both of the cases the P-Value is lower than 0.05, meaning that the performance of the model X depends on the correct answer"
   ]
  },
  {
   "cell_type": "markdown",
   "id": "33848ff9-2604-4e48-b5df-3207dc81e9a9",
   "metadata": {},
   "source": [
    "### 2.4 (2 pt)\n",
    "\n",
    "What an intriguing finding! \n",
    "\n",
    "A. Print the mean accuracies conditioned on the correct answer for all LMs for each dataset.\n",
    "\n",
    "B. /Discuss:/ What do you observe?"
   ]
  },
  {
   "cell_type": "code",
   "execution_count": 20,
   "id": "ec53ce2c-866e-440a-ac79-7813cb756782",
   "metadata": {},
   "outputs": [
    {
     "name": "stdout",
     "output_type": "stream",
     "text": [
      "Mean Accuracy for Model X for \"correct\" answer A on MMLU Data 0.97269\n",
      "Mean Accuracy for Model X for \"correct\" answer B on MMLU Data 0.79918\n",
      "Mean Accuracy for Model X for \"correct\" answer C on MMLU Data 0.7079\n",
      "Mean Accuracy for Model X for \"correct\" answer D on MMLU Data 0.63359\n",
      "----------------------------------------------------------------------------------------------------\n",
      "Mean Accuracy for Model X for \"correct\" answer A on Other Data 0.97403\n",
      "Mean Accuracy for Model X for \"correct\" answer B on Other Data 0.80645\n",
      "Mean Accuracy for Model X for \"correct\" answer C on Other Data 0.67641\n",
      "Mean Accuracy for Model X for \"correct\" answer D on Other Data 0.60374\n",
      "----------------------------------------------------------------------------------------------------\n",
      "Mean Accuracy for Model Y for \"correct\" answer A on MMLU Data 0.62384\n",
      "Mean Accuracy for Model Y for \"correct\" answer B on MMLU Data 0.68807\n",
      "Mean Accuracy for Model Y for \"correct\" answer C on MMLU Data 0.73347\n",
      "Mean Accuracy for Model Y for \"correct\" answer D on MMLU Data 0.90425\n",
      "----------------------------------------------------------------------------------------------------\n",
      "Mean Accuracy for Model Y for \"correct\" answer A on Other Data 0.62523\n",
      "Mean Accuracy for Model Y for \"correct\" answer B on Other Data 0.66398\n",
      "Mean Accuracy for Model Y for \"correct\" answer C on Other Data 0.76299\n",
      "Mean Accuracy for Model Y for \"correct\" answer D on Other Data 0.92044\n",
      "----------------------------------------------------------------------------------------------------\n",
      "Mean Accuracy for Model Z for \"correct\" answer A on MMLU Data 0.64308\n",
      "Mean Accuracy for Model Z for \"correct\" answer B on MMLU Data 0.64118\n",
      "Mean Accuracy for Model Z for \"correct\" answer C on MMLU Data 0.66912\n",
      "Mean Accuracy for Model Z for \"correct\" answer D on MMLU Data 0.66114\n",
      "----------------------------------------------------------------------------------------------------\n",
      "Mean Accuracy for Model Z for \"correct\" answer A on Other Data 0.68089\n",
      "Mean Accuracy for Model Z for \"correct\" answer B on Other Data 0.66756\n",
      "Mean Accuracy for Model Z for \"correct\" answer C on Other Data 0.66234\n",
      "Mean Accuracy for Model Z for \"correct\" answer D on Other Data 0.67707\n"
     ]
    }
   ],
   "source": [
    "# A\n",
    "\n",
    "print('Mean Accuracy for Model X for \"correct\" answer A on MMLU Data', df_mmlu_x[df_mmlu_x['answer'] == 'A'].correct.mean().round(5))\n",
    "print('Mean Accuracy for Model X for \"correct\" answer B on MMLU Data', df_mmlu_x[df_mmlu_x['answer'] == 'B'].correct.mean().round(5))\n",
    "print('Mean Accuracy for Model X for \"correct\" answer C on MMLU Data', df_mmlu_x[df_mmlu_x['answer'] == 'C'].correct.mean().round(5))\n",
    "print('Mean Accuracy for Model X for \"correct\" answer D on MMLU Data', df_mmlu_x[df_mmlu_x['answer'] == 'D'].correct.mean().round(5))\n",
    "print('-'*100) \n",
    "print('Mean Accuracy for Model X for \"correct\" answer A on Other Data', df_other_x[df_other_x['answer'] == 'A'].correct.mean().round(5))\n",
    "print('Mean Accuracy for Model X for \"correct\" answer B on Other Data', df_other_x[df_other_x['answer'] == 'B'].correct.mean().round(5))\n",
    "print('Mean Accuracy for Model X for \"correct\" answer C on Other Data', df_other_x[df_other_x['answer'] == 'C'].correct.mean().round(5))\n",
    "print('Mean Accuracy for Model X for \"correct\" answer D on Other Data', df_other_x[df_other_x['answer'] == 'D'].correct.mean().round(5))\n",
    "print('-'*100)\n",
    "df_mmlu_y = df_mmlu[df_mmlu['model_name'] == 'Y']\n",
    "print('Mean Accuracy for Model Y for \"correct\" answer A on MMLU Data', df_mmlu_y[df_mmlu_y['answer'] == 'A'].correct.mean().round(5))\n",
    "print('Mean Accuracy for Model Y for \"correct\" answer B on MMLU Data', df_mmlu_y[df_mmlu_y['answer'] == 'B'].correct.mean().round(5))\n",
    "print('Mean Accuracy for Model Y for \"correct\" answer C on MMLU Data', df_mmlu_y[df_mmlu_y['answer'] == 'C'].correct.mean().round(5))\n",
    "print('Mean Accuracy for Model Y for \"correct\" answer D on MMLU Data', df_mmlu_y[df_mmlu_y['answer'] == 'D'].correct.mean().round(5))\n",
    "print('-'*100)\n",
    "print('Mean Accuracy for Model Y for \"correct\" answer A on Other Data', df_other[df_other['model_name'] == 'Y'][df_other[df_other['model_name'] == 'Y']['answer'] == 'A'].correct.mean().round(5))\n",
    "print('Mean Accuracy for Model Y for \"correct\" answer B on Other Data', df_other[df_other['model_name'] == 'Y'][df_other[df_other['model_name'] == 'Y']['answer'] == 'B'].correct.mean().round(5))\n",
    "print('Mean Accuracy for Model Y for \"correct\" answer C on Other Data', df_other[df_other['model_name'] == 'Y'][df_other[df_other['model_name'] == 'Y']['answer'] == 'C'].correct.mean().round(5))\n",
    "print('Mean Accuracy for Model Y for \"correct\" answer D on Other Data', df_other[df_other['model_name'] == 'Y'][df_other[df_other['model_name'] == 'Y']['answer'] == 'D'].correct.mean().round(5))\n",
    "print('-'*100)\n",
    "df_mmlu_z = df_mmlu[df_mmlu['model_name'] == 'Z']\n",
    "print('Mean Accuracy for Model Z for \"correct\" answer A on MMLU Data', df_mmlu_z[df_mmlu_z['answer'] == 'A'].correct.mean().round(5))\n",
    "print('Mean Accuracy for Model Z for \"correct\" answer B on MMLU Data', df_mmlu_z[df_mmlu_z['answer'] == 'B'].correct.mean().round(5))\n",
    "print('Mean Accuracy for Model Z for \"correct\" answer C on MMLU Data', df_mmlu_z[df_mmlu_z['answer'] == 'C'].correct.mean().round(5))\n",
    "print('Mean Accuracy for Model Z for \"correct\" answer D on MMLU Data', df_mmlu_z[df_mmlu_z['answer'] == 'D'].correct.mean().round(5))\n",
    "print('-'*100)\n",
    "print('Mean Accuracy for Model Z for \"correct\" answer A on Other Data', df_other[df_other['model_name'] == 'Z'][df_other[df_other['model_name'] == 'Z']['answer'] == 'A'].correct.mean().round(5))\n",
    "print('Mean Accuracy for Model Z for \"correct\" answer B on Other Data', df_other[df_other['model_name'] == 'Z'][df_other[df_other['model_name'] == 'Z']['answer'] == 'B'].correct.mean().round(5))\n",
    "print('Mean Accuracy for Model Z for \"correct\" answer C on Other Data', df_other[df_other['model_name'] == 'Z'][df_other[df_other['model_name'] == 'Z']['answer'] == 'C'].correct.mean().round(5))\n",
    "print('Mean Accuracy for Model Z for \"correct\" answer D on Other Data', df_other[df_other['model_name'] == 'Z'][df_other[df_other['model_name'] == 'Z']['answer'] == 'D'].correct.mean().round(5))\n",
    "\n"
   ]
  },
  {
   "cell_type": "code",
   "execution_count": 21,
   "id": "c2e2683c",
   "metadata": {},
   "outputs": [
    {
     "data": {
      "text/plain": [
       "(0.5, 1.0)"
      ]
     },
     "execution_count": 21,
     "metadata": {},
     "output_type": "execute_result"
    },
    {
     "data": {
      "image/png": "[encoded data removed]",
      "text/plain": [
       "<Figure size 2000x600 with 2 Axes>"
      ]
     },
     "metadata": {},
     "output_type": "display_data"
    }
   ],
   "source": [
    "import seaborn as sns\n",
    "\n",
    "fig, ax = plt.subplots(1, 2, figsize=(20, 6),sharey = True , sharex=True)\n",
    "fig.suptitle(' mean accuracies conditioned on the correct answer for all LMs for each dataset' )\n",
    "order = ['A', 'B', 'C', 'D']\n",
    "sns.barplot(x=\"answer\", y=\"correct\", data=df_mmlu, ax=ax[0], hue='model_name', legend=True, order=order)\n",
    "sns.barplot(x=\"answer\", y=\"correct\", data=df_other, ax=ax[1], hue='model_name', legend=True, order=order)\n",
    "ax[0].set_ylabel('Accuracy')  \n",
    "ax[0].set_title('mmlu')  \n",
    "ax[1].set_title('other')  \n",
    "ax[1].tick_params()\n",
    "plt.ylim(0.5, 1)"
   ]
  },
  {
   "cell_type": "markdown",
   "id": "4ce58e47",
   "metadata": {},
   "source": [
    "B. /Discuss:/\n",
    "\n",
    "model_x has a better accuracy when the right answer is A in both other and mmlu, while model_y has a better accuracy when the right answer is D in both other and mmlu. model_z is more balanced in both datasets with an average accuracy lower than the other two models, as clearly shown in the plots."
   ]
  },
  {
   "cell_type": "markdown",
   "id": "ccdd9d3c-5a03-4b30-84f7-a7dfbee1373e",
   "metadata": {},
   "source": [
    "### 2.5 (2 pt)\n",
    "\n",
    "Concerned with your findings so far, you quickly consult with Ms. Sakota. After thinking it over, Ms. Sakota concludes that more tests are needed. She orders a second round of MMLU results. However, the clever Ms. Sakota thinks of the following twist: while keeping questions fixed, she randomly permutes the position of the correct answer. The new results can be found in the folder `data/task_2_5/`:\n",
    "```\n",
    "task_2_5/\n",
    "│\n",
    "└── lm_scores_mmlu_shuffle.csv\n",
    "```\n",
    "\n",
    "/Discuss:/ Why would Ms. Sakota do this?"
   ]
  },
  {
   "cell_type": "markdown",
   "id": "64cc586a",
   "metadata": {},
   "source": [
    "/Discuss:/\n",
    "\n",
    "Re-testing the models on the permuted answers serves to verify that the models respond according to the content of the answers, independent of the letter corresponding to the right answer."
   ]
  },
  {
   "cell_type": "markdown",
   "id": "b9150ae0-dbaa-4c88-bf80-ec03127c6945",
   "metadata": {},
   "source": [
    "### 2.6 (4 pt)\n",
    "\n",
    "Increasingly sceptical of the language models' performance, you read up on proper testing practices. You stumble upon the concept of [test-rested stability](https://en.wikipedia.org/wiki/Repeatability), which roughtly states that:\n",
    "\n",
    "\"_Measurements taken by a single person or instrument on the same item, under the same conditions, and in a short period of time, should have the same results._\"\n",
    "\n",
    "In our case, we would assume an LM would have the same performance on a given question regardless of the correct answer position. One way of testing this is by using the following metric:\n",
    "\n",
    "$$\\text{test-retest metric} = \\frac{1}{N}\\sum_{i=1}^N \\frac{1}{M}\\sum_{j=1}^M c^i_0 c_j^i,$$\n",
    "\n",
    "where $c^i_0 \\in \\{0, 1\\}$ indicates whether the model answers the $i^{\\text{th}}$ question correctly (1 if correct, 0 if incorrect). $c_j^i$ indicates whether the model answers the $i^{\\text{th}}$ question correctly in the $j^{\\text{th}}$ shuffled version of the answer label content. Finally, $M$ is the total number of shuffles and $N$ is the dataset size.\n",
    "\n",
    "Task: compute the test-retest metric for each language model using the original `lm_scores_mmlu.csv` file and the new `lm_scores_mmlu_shuffle.csv` file. Using a bar plot, visualize your results by comparing the accuracy of the original `lm_scores_mmlu.csv` and the test-retest scores.\n",
    "\n",
    "**hints**\n",
    "- what is $M$ in our case?\n",
    "\n",
    "(bonus: no points, but so much sweet, sweet knowledge - check out [the following article](https://arxiv.org/pdf/2406.19470v1))"
   ]
  },
  {
   "cell_type": "code",
   "execution_count": 22,
   "id": "5b55fcfc-6de9-4cd3-bf2d-bde399ae2fbc",
   "metadata": {},
   "outputs": [
    {
     "data": {
      "text/plain": [
       "True    35088\n",
       "Name: count, dtype: int64"
      ]
     },
     "execution_count": 22,
     "metadata": {},
     "output_type": "execute_result"
    }
   ],
   "source": [
    "df_mmlu_shuffle = pd.read_csv('task_2_5/lm_scores_mmlu_shuffle.csv')\n",
    "#I make sure that each row of the 2 dataframes has the same model_name and the same question_id\n",
    "((df_mmlu['question_id']==df_mmlu_shuffle['question_id']) & (df_mmlu['model_name']==df_mmlu_shuffle['model_name'])).value_counts()\n"
   ]
  },
  {
   "cell_type": "code",
   "execution_count": 23,
   "id": "94517541",
   "metadata": {},
   "outputs": [],
   "source": [
    "#add column correct_shuffle and answer_shuffle and both_correct, and than group by model \n",
    "df_mmlu['correct_shuffle']=df_mmlu_shuffle['correct']\n",
    "df_mmlu['answer_shuffle']=df_mmlu_shuffle['answer']\n",
    "df_mmlu['both_correct']=df_mmlu['correct'] & df_mmlu['correct_shuffle'] \n",
    "df_mmlu_group_model=df_mmlu.groupby('model_name')"
   ]
  },
  {
   "cell_type": "code",
   "execution_count": 24,
   "id": "d2a26615-d7ee-421b-81e2-2f456e3daf98",
   "metadata": {},
   "outputs": [
    {
     "name": "stdout",
     "output_type": "stream",
     "text": [
      "metric for Ml_x: 0.588, metric for Ml_y: 0.572 , metric for Ml_z: 0.442  \n"
     ]
    }
   ],
   "source": [
    "def compute_metric(model_name):\n",
    "    df_model=df_mmlu[df_mmlu['model_name']==model_name]\n",
    "    N=df_model.shape[0]\n",
    "    metric = (1/N) * np.sum(df_model['correct'].astype(int) * df_model['correct_shuffle'].astype(int))\n",
    "    return metric\n",
    "print(\"metric for Ml_x: {:.3f}, metric for Ml_y: {:.3f} , metric for Ml_z: {:.3f}  \".format(compute_metric('X'), compute_metric('Y'), compute_metric('Z')))"
   ]
  },
  {
   "cell_type": "code",
   "execution_count": 25,
   "id": "81e20201-c849-4950-8eb9-0ab3d24e97e1",
   "metadata": {},
   "outputs": [
    {
     "data": {
      "image/png": "[encoded data removed]",
      "text/plain": [
       "<Figure size 1000x600 with 1 Axes>"
      ]
     },
     "metadata": {},
     "output_type": "display_data"
    },
    {
     "data": {
      "text/plain": [
       "Text(0.5, 1.0, ' accuracy of lm_scores_mmlu.csv vs accuracy of test-retest scores for each language model.')"
      ]
     },
     "execution_count": 25,
     "metadata": {},
     "output_type": "execute_result"
    }
   ],
   "source": [
    "fig, ax = plt.subplots(figsize=(10, 6))\n",
    "df_mmlu_shuffle['dataset']='test-retest'\n",
    "df_mmlu['dataset']='mmlu'\n",
    "df_to_show=pd.concat([df_mmlu, df_mmlu_shuffle], axis=0)\n",
    "sns.barplot(x=\"model_name\", ax=ax, y=\"correct\",data=df_to_show, hue=\"dataset\")\n",
    "plt.show()\n",
    "ax.set_title(\" accuracy of lm_scores_mmlu.csv vs accuracy of test-retest scores for each language model.\")"
   ]
  },
  {
   "cell_type": "markdown",
   "id": "b70bee6e-0c81-4f5a-b1a8-16a96aa2ae17",
   "metadata": {},
   "source": [
    "### 2.7 (2 pt)\n",
    "\n",
    "A. Using the unshuffled data: For each LM, print the distribution of the answers they give as well as the accuracy conditioned on the answer they give.\n",
    "\n",
    "B. /Discuss:/ Describe what you observe\n",
    "\n",
    "[bonus: not scored, but again _that sweet, sweet knowledge_] Could you think of a plausible explanation?"
   ]
  },
  {
   "cell_type": "code",
   "execution_count": 26,
   "id": "4956581b-d047-46cb-ae71-1508a9a0b466",
   "metadata": {},
   "outputs": [
    {
     "name": "stdout",
     "output_type": "stream",
     "text": [
      "Distribution of Answers for Model X and MMLU Data: result\n",
      "A    4259\n",
      "B    2659\n",
      "C    2409\n",
      "D    2369\n",
      "Name: count, dtype: int64\n",
      "Accuracy of Model X on MMLU Data for Answer A: 0.36792674336698755\n",
      "Accuracy of Model X on MMLU Data for Answer B: 0.884543061301241\n",
      "Accuracy of Model X on MMLU Data for Answer C: 1.0\n",
      "Accuracy of Model X on MMLU Data for Answer D: 1.0\n",
      "----------------------------------------------------------------------------------------------------\n",
      "Distribution of Answers for Model X and Other Data: result\n",
      "A    1766\n",
      "B     981\n",
      "C     625\n",
      "D     387\n",
      "Name: count, dtype: int64\n",
      "Accuracy of Model X on Other Data for Answer A: 0.594563986409966\n",
      "Accuracy of Model X on Other Data for Answer B: 0.9174311926605505\n",
      "Accuracy of Model X on Other Data for Answer C: 1.0\n",
      "Accuracy of Model X on Other Data for Answer D: 1.0\n",
      "----------------------------------------------------------------------------------------------------\n",
      "Distribution of Answers for Model Y and MMLU Data: result\n",
      "D    5353\n",
      "C    3015\n",
      "B    2256\n",
      "A    1072\n",
      "Name: count, dtype: int64\n",
      "Accuracy of Model Y on MMLU Data for Answer A: 0.9375\n",
      "Accuracy of Model Y on MMLU Data for Answer B: 0.8976063829787234\n",
      "Accuracy of Model Y on MMLU Data for Answer C: 0.8278606965174129\n",
      "Accuracy of Model Y on MMLU Data for Answer D: 0.6316084438632542\n",
      "----------------------------------------------------------------------------------------------------\n",
      "Distribution of Answers for Model Y and Other Data: result\n",
      "D    1356\n",
      "C     909\n",
      "B     802\n",
      "A     692\n",
      "Name: count, dtype: int64\n",
      "Accuracy of Model Y on Other Data for Answer A: 0.9739884393063584\n",
      "Accuracy of Model Y on Other Data for Answer B: 0.9239401496259352\n",
      "Accuracy of Model Y on Other Data for Answer C: 0.7755775577557755\n",
      "Accuracy of Model Y on Other Data for Answer D: 0.4351032448377581\n",
      "----------------------------------------------------------------------------------------------------\n",
      "Distribution of Answers for Model Z and MMLU Data: result\n",
      "D    3398\n",
      "C    3237\n",
      "B    2885\n",
      "A    2176\n",
      "Name: count, dtype: int64\n",
      "Accuracy of Model Z on MMLU Data for Answer A: 0.47610294117647056\n",
      "Accuracy of Model Z on MMLU Data for Answer B: 0.6540727902946274\n",
      "Accuracy of Model Z on MMLU Data for Answer C: 0.7034291010194624\n",
      "Accuracy of Model Z on MMLU Data for Answer D: 0.7274867569158329\n",
      "----------------------------------------------------------------------------------------------------\n",
      "Distribution of Answers for Model Z and Other Data: result\n",
      "A    1034\n",
      "B    1004\n",
      "C     931\n",
      "D     790\n",
      "Name: count, dtype: int64\n",
      "Accuracy of Model Z on Other Data for Answer A: 0.7098646034816247\n",
      "Accuracy of Model Z on Other Data for Answer B: 0.7420318725099602\n",
      "Accuracy of Model Z on Other Data for Answer C: 0.6573576799140709\n",
      "Accuracy of Model Z on Other Data for Answer D: 0.549367088607595\n"
     ]
    }
   ],
   "source": [
    "# A\n",
    "print(f'Distribution of Answers for Model X and MMLU Data: {df_mmlu_x[\"result\"].value_counts()}')\n",
    "print(f'Accuracy of Model X on MMLU Data for Answer A: {df_mmlu_x[df_mmlu_x[\"result\"] == \"A\"][\"correct\"].mean()}')\n",
    "print(f'Accuracy of Model X on MMLU Data for Answer B: {df_mmlu_x[df_mmlu_x[\"result\"] == \"B\"][\"correct\"].mean()}')\n",
    "print(f'Accuracy of Model X on MMLU Data for Answer C: {df_mmlu_x[df_mmlu_x[\"result\"] == \"C\"][\"correct\"].mean()}')\n",
    "print(f'Accuracy of Model X on MMLU Data for Answer D: {df_mmlu_x[df_mmlu_x[\"result\"] == \"D\"][\"correct\"].mean()}')\n",
    "print('-'*100)\n",
    "print(f'Distribution of Answers for Model X and Other Data: {df_other_x[\"result\"].value_counts()}')\n",
    "print(f'Accuracy of Model X on Other Data for Answer A: {df_other_x[df_other_x[\"result\"] == \"A\"][\"correct\"].mean()}')\n",
    "print(f'Accuracy of Model X on Other Data for Answer B: {df_other_x[df_other_x[\"result\"] == \"B\"][\"correct\"].mean()}')\n",
    "print(f'Accuracy of Model X on Other Data for Answer C: {df_other_x[df_other_x[\"result\"] == \"C\"][\"correct\"].mean()}')\n",
    "print(f'Accuracy of Model X on Other Data for Answer D: {df_other_x[df_other_x[\"result\"] == \"D\"][\"correct\"].mean()}')\n",
    "print('-'*100)\n",
    "\n",
    "\n",
    "print(f'Distribution of Answers for Model Y and MMLU Data: {df_mmlu_y[\"result\"].value_counts()}')\n",
    "print(f'Accuracy of Model Y on MMLU Data for Answer A: {df_mmlu_y[df_mmlu_y[\"result\"] == \"A\"][\"correct\"].mean()}')\n",
    "print(f'Accuracy of Model Y on MMLU Data for Answer B: {df_mmlu_y[df_mmlu_y[\"result\"] == \"B\"][\"correct\"].mean()}')\n",
    "print(f'Accuracy of Model Y on MMLU Data for Answer C: {df_mmlu_y[df_mmlu_y[\"result\"] == \"C\"][\"correct\"].mean()}')\n",
    "print(f'Accuracy of Model Y on MMLU Data for Answer D: {df_mmlu_y[df_mmlu_y[\"result\"] == \"D\"][\"correct\"].mean()}')\n",
    "print('-'*100)\n",
    "print(f'Distribution of Answers for Model Y and Other Data: {df_other[df_other[\"model_name\"] == \"Y\"][\"result\"].value_counts()}')\n",
    "df_other_y = df_other[df_other[\"model_name\"] == \"Y\"]\n",
    "print(f'Accuracy of Model Y on Other Data for Answer A: {df_other_y[df_other_y[\"result\"] == \"A\"][\"correct\"].mean()}')\n",
    "print(f'Accuracy of Model Y on Other Data for Answer B: {df_other_y[df_other_y[\"result\"] == \"B\"][\"correct\"].mean()}')\n",
    "print(f'Accuracy of Model Y on Other Data for Answer C: {df_other_y[df_other_y[\"result\"] == \"C\"][\"correct\"].mean()}')\n",
    "print(f'Accuracy of Model Y on Other Data for Answer D: {df_other_y[df_other_y[\"result\"] == \"D\"][\"correct\"].mean()}')\n",
    "print('-'*100)\n",
    "\n",
    "\n",
    "print(f'Distribution of Answers for Model Z and MMLU Data: {df_mmlu_z[\"result\"].value_counts()}')\n",
    "print(f'Accuracy of Model Z on MMLU Data for Answer A: {df_mmlu_z[df_mmlu_z[\"result\"] == \"A\"][\"correct\"].mean()}')\n",
    "print(f'Accuracy of Model Z on MMLU Data for Answer B: {df_mmlu_z[df_mmlu_z[\"result\"] == \"B\"][\"correct\"].mean()}')\n",
    "print(f'Accuracy of Model Z on MMLU Data for Answer C: {df_mmlu_z[df_mmlu_z[\"result\"] == \"C\"][\"correct\"].mean()}')\n",
    "print(f'Accuracy of Model Z on MMLU Data for Answer D: {df_mmlu_z[df_mmlu_z[\"result\"] == \"D\"][\"correct\"].mean()}')\n",
    "print('-'*100)\n",
    "df_other_z = df_other[df_other[\"model_name\"] == \"Z\"]\n",
    "print(f'Distribution of Answers for Model Z and Other Data: {df_other[df_other[\"model_name\"] == \"Z\"][\"result\"].value_counts()}')\n",
    "print(f'Accuracy of Model Z on Other Data for Answer A: {df_other_z[df_other_z[\"result\"] == \"A\"][\"correct\"].mean()}')\n",
    "print(f'Accuracy of Model Z on Other Data for Answer B: {df_other_z[df_other_z[\"result\"] == \"B\"][\"correct\"].mean()}')\n",
    "print(f'Accuracy of Model Z on Other Data for Answer C: {df_other_z[df_other_z[\"result\"] == \"C\"][\"correct\"].mean()}')\n",
    "print(f'Accuracy of Model Z on Other Data for Answer D: {df_other_z[df_other_z[\"result\"] == \"D\"][\"correct\"].mean()}')\n",
    "\n"
   ]
  },
  {
   "cell_type": "markdown",
   "id": "65639228",
   "metadata": {},
   "source": [
    "B. /Discuss:/\n",
    "\n",
    "From the results found, Model X has significant performances when the correct answer is \"B\", \"C\" or \"D\", but low when the answer is \"A\". There is also a high variance in the accuracy of the prediction depending on the correct answer.\n",
    "\n",
    "Model Y has good performances when the correct answers are \"A\", \"B\" or \"C\", but performs worse for answer \"D\". With a comparatively lower variance than Model X.\n",
    "\n",
    "Model Z performs comparatively worse than the other models on average. Model Z is also the only one that shows a significant difference in accuracy between the two datasets."
   ]
  },
  {
   "cell_type": "markdown",
   "id": "ce3186fe-ef8e-4af3-9a07-a6081d454e5a",
   "metadata": {},
   "source": [
    "## Task 3 (16 points): What do Questions and Answers look like for a Language Model?\n",
    "\n",
    "While you feel pretty good about the tests you conducted so far, something still bothers you: what if the language models don't see the data like you do? Suddenly, you receive a phone call from a wise AI sage in the West, _Westoda_:\n",
    "\n",
    "```\n",
    "\"Hmm, correct you are, young padawan, to question how the world is seen by large language models! Simple 'text' it is not, hmm? No, no, no! Characters and words, the way of puny humans, this is not, heh heh heh.\n",
    "\n",
    "'Tokens', they use, yes! Mysterious and powerful, these tokens are. Expand our vocabulary, they do, beyond the simple 'a to Z'. Chunky blocks of text, they become, yes! 'Hello world', a simple phrase it may seem. But to a language model, '[24912, 2375]' it might appear, yes! Confusing, it is, hmm?\n",
    "\n",
    "Wise, it would be, to explore these MMLU data points through the eyes of a language model, you think? Yes, yes! Much to learn, there is. The ways of the tokens, understand you must, if truly comprehend the great LMs, you wish to.\n",
    "Meditate on this, you should. The force of natural language processing, strong it is. But patience, you must have, my young padawan. For only through great study and contemplation, will the mysteries of the tokens reveal themselves to you, they will. Yes, hmmm!\"\n",
    "```\n",
    "\n",
    "Admittingly, Westoda at times speaks in riddles… However, he was explaining a crucial aspect of modern LMs called [Tokenization](https://learn.microsoft.com/en-us/dotnet/ai/conceptual/understanding-tokens):\n",
    "\n",
    "\n",
    "“Tokens are words, character sets, or combinations of words and punctuation that are used by [language models (LMs)] to decompose text into. Tokenization is the first step in training”\n",
    "\n",
    "Instead of characters, LMs process natural language using “tokens”. While this is useful for a number of reasons, it does at times introduce some “unintuitive” behavior…"
   ]
  },
  {
   "cell_type": "code",
   "execution_count": 27,
   "id": "e2c66517-938b-4331-9eea-1b23fe4ad9e7",
   "metadata": {},
   "outputs": [
    {
     "name": "stdout",
     "output_type": "stream",
     "text": [
      "humans see: \"hello world\" --> language models see: [24912, 2375]\n"
     ]
    }
   ],
   "source": [
    "# PROVIDED CODE\n",
    "\n",
    "try:\n",
    "    import tiktoken\n",
    "except Exception as e:\n",
    "    print('installing tiktoken package')\n",
    "    \n",
    "    !pip install tiktoken\n",
    "    \n",
    "    import tiktoken\n",
    "\n",
    "def tokenize_text(s):\n",
    "    enc = tiktoken.encoding_for_model('gpt-4o')\n",
    "    tokens = enc.encode(str(s))\n",
    "    return tokens\n",
    "\n",
    "example_string = 'hello world'\n",
    "print(f'humans see: \"{example_string}\" --> language models see: {tokenize_text(example_string)}')"
   ]
  },
  {
   "cell_type": "markdown",
   "id": "3c8019ee-7d52-496f-afff-c96f2f9db08c",
   "metadata": {},
   "source": [
    "### 3.1 (5 pt)\n",
    "\n",
    "Use the provided code in the cell above to \"see the world through the eyes of a language model\":\n",
    "\n",
    "A. Tokenize the questions of the original MMLU data provided in task 1: `task_1/mmlu_data/test.csv` and plot the token distribution (the frequency of each token).\n",
    "\n",
    "B. Same as (A), but now for the answers in columns (columns \"A\", \"B\", \"C\", and \"D\").\n",
    "\n",
    "C. Isolate the tokens for the strings \"A\", \"B\", \"C\", and \"D\", then, for their occurances in both questions and answers, print their relative distribution to each other.\n",
    "\n",
    "**hint**\n",
    "- There are a _lot_ of tokens, consider using a cutoff point and log scale\n",
    "- For (c), they should sum to 1"
   ]
  },
  {
   "cell_type": "code",
   "execution_count": 28,
   "id": "a9a1e97b-3a31-41b1-a9c3-fb84cb1740d9",
   "metadata": {},
   "outputs": [
    {
     "data": {
      "image/png": "[encoded data removed]",
      "text/plain": [
       "<Figure size 640x480 with 1 Axes>"
      ]
     },
     "metadata": {},
     "output_type": "display_data"
    }
   ],
   "source": [
    "all_questions=df_test['question']\n",
    "#tokenize_question: list as long as the number of questions.\n",
    "#the 'list element in position i contains the tokens related to the i th question\n",
    "tokenize_question=list(all_questions.map(lambda x:tokenize_text(x)))\n",
    "array_cumulative=plt.hist(np.concatenate(tokenize_question), bins=100,log=True,histtype='step')\n",
    "plt.title('Histogram of token distribution in questions')\n",
    "plt.ylabel('# of token (log scale)')\n",
    "plt.xlabel('token')\n",
    "plt.show()"
   ]
  },
  {
   "cell_type": "code",
   "execution_count": 29,
   "id": "fe1f8be8",
   "metadata": {},
   "outputs": [
    {
     "data": {
      "image/png": "[encoded data removed]",
      "text/plain": [
       "<Figure size 640x480 with 1 Axes>"
      ]
     },
     "metadata": {},
     "output_type": "display_data"
    }
   ],
   "source": [
    "plt.loglog(array_cumulative[1][1:],array_cumulative[0])\n",
    "plt.title('Histogram of token distribution')\n",
    "plt.ylabel('# of token (log scale)')\n",
    "plt.xlabel('token (log scale)')\n",
    "plt.show()"
   ]
  },
  {
   "cell_type": "code",
   "execution_count": 30,
   "id": "cd392df7",
   "metadata": {},
   "outputs": [
    {
     "data": {
      "image/png": "[encoded data removed]",
      "text/plain": [
       "<Figure size 640x480 with 1 Axes>"
      ]
     },
     "metadata": {},
     "output_type": "display_data"
    }
   ],
   "source": [
    "# same as above, but for the columns answers(A,B,C,D) instead of question\n",
    "all_question_A=df_test['A']\n",
    "all_question_B=df_test['B']\n",
    "all_question_C=df_test['C']\n",
    "all_question_D=df_test['D']\n",
    "\n",
    "tokenize_question_A=list(all_question_A.map(lambda x:tokenize_text(x)))\n",
    "tokenize_question_B=list(all_question_B.map(lambda x:tokenize_text(x)))\n",
    "tokenize_question_C=list(all_question_C.map(lambda x:tokenize_text(x)))\n",
    "tokenize_question_D=list(all_question_D.map(lambda x:tokenize_text(x)))\n",
    "\n",
    "tokenize_question_arr_A= np.concatenate(tokenize_question_A)\n",
    "tokenize_question_arr_B= np.concatenate(tokenize_question_B)\n",
    "tokenize_question_arr_C= np.concatenate(tokenize_question_C)\n",
    "tokenize_question_arr_D= np.concatenate(tokenize_question_D)\n",
    "\n",
    "#Merge the tokens of all answers and show in a histogram \n",
    "tokenize_all_question=np.concatenate((tokenize_question_arr_A, tokenize_question_arr_B,tokenize_question_arr_C,tokenize_question_arr_D))\n",
    "plt.hist(tokenize_all_question, bins=100,log=True,histtype='step')\n",
    "plt.title('Histogram of token distribution in ansewrs')\n",
    "plt.ylabel('# of token (log scale)')\n",
    "plt.xlabel('token')\n",
    "plt.show()\n",
    "plt.show()"
   ]
  },
  {
   "cell_type": "code",
   "execution_count": 33,
   "id": "4655c064-e722-4258-9125-09632fe91d63",
   "metadata": {},
   "outputs": [
    {
     "name": "stdout",
     "output_type": "stream",
     "text": [
      "relative distribution:  A_token:  79.17%  B_token:  6.02%,  C_token:  10.15%,  D_token:  4.66%\n"
     ]
    }
   ],
   "source": [
    "# C\n",
    "A_TOKENIZED=tokenize_text('A')[0]\n",
    "B_TOKENIZED=tokenize_text('B')[0]\n",
    "C_TOKENIZED=tokenize_text('C')[0]\n",
    "D_TOKENIZED=tokenize_text('D')[0]\n",
    "\n",
    "#question_answers_pair_tokenized : list as long as the number of questions.\n",
    "#the 'list element in position i contains the tokens related to the i th question and answer 'A', 'B' 'C', 'D'\n",
    "question_answers_pair_tokenized= [q+a+b+c+d for q, a, b, c, d in zip(tokenize_question,\n",
    "tokenize_question_A,\n",
    "tokenize_question_B,\n",
    "tokenize_question_C,\n",
    "tokenize_question_D\n",
    ")]\n",
    "\n",
    "#each list contains at index i the number of occurrences of that token in question-answers pair at row i of database\n",
    "A_occurrences=[]\n",
    "B_occurrences=[]\n",
    "C_occurrences=[]\n",
    "D_occurrences=[]\n",
    "\n",
    "#contains at index i the  total number of token in question-answers pair at row i of database\n",
    "number_of_total_token=[]\n",
    "\n",
    "#calculate the occurrences of A_TOKENIZED, B_TOKENIZED, C_TOKENIZED,D_TOKENIZED in eaach question-answers pair\n",
    "for index, pair in enumerate(question_answers_pair_tokenized):\n",
    "    A_occurrences.append(pair.count(A_TOKENIZED))\n",
    "    B_occurrences.append(pair.count(B_TOKENIZED))\n",
    "    C_occurrences.append(pair.count(C_TOKENIZED))\n",
    "    D_occurrences.append(pair.count(D_TOKENIZED))\n",
    "    number_of_total_token.append(len(pair))\n",
    "total_occurrences_A=sum(A_occurrences)\n",
    "total_occurrences_B=sum(B_occurrences)\n",
    "total_occurrences_C=sum(C_occurrences)\n",
    "total_occurrences_D=sum(D_occurrences)\n",
    "total_occurrences=total_occurrences_A+total_occurrences_B+total_occurrences_C+total_occurrences_D\n",
    "print(\"relative distribution:  A_token:  {:.2f}%  B_token:  {:.2f}%,  C_token:  {:.2f}%,  D_token:  {:.2f}%\".format( 100* total_occurrences_A/total_occurrences,  100* total_occurrences_B/total_occurrences, 100* total_occurrences_C/total_occurrences, 100* total_occurrences_D/total_occurrences))"
   ]
  },
  {
   "cell_type": "markdown",
   "id": "a674929c-68e1-4cd8-97b3-efa0cdae4874",
   "metadata": {},
   "source": [
    "### 3.2 (3 pt)\n",
    "\n",
    "What if the number of \"A\", \"B\", \"C\", and \"D\" tokens in the question and answer pairs could influence a language model's decisions?\n",
    "\n",
    "A. For each combined question-answers pair, compute: \n",
    "1. the number of \"A\", \"B\", \"C\", and \"D\" tokens; and\n",
    "2. the total number of tokens.\n",
    "3. then, group by the \"correct\" answer and compute the mean frequency of A, B, C, and D tokens and the total number of tokens. \n",
    "4. finally, print your results\n",
    "\n",
    "B. /Discuss:/ What do you think of the hypothesis that the frequency of A, B, C, and D tokens could influence answers?\n"
   ]
  },
  {
   "cell_type": "code",
   "execution_count": 34,
   "id": "53426de3",
   "metadata": {},
   "outputs": [
    {
     "data": {
      "text/html": [
       "<div>\n",
       "<style scoped>\n",
       "    .dataframe tbody tr th:only-of-type {\n",
       "        vertical-align: middle;\n",
       "    }\n",
       "\n",
       "    .dataframe tbody tr th {\n",
       "        vertical-align: top;\n",
       "    }\n",
       "\n",
       "    .dataframe thead th {\n",
       "        text-align: right;\n",
       "    }\n",
       "</style>\n",
       "<table border=\"1\" class=\"dataframe\">\n",
       "  <thead>\n",
       "    <tr style=\"text-align: right;\">\n",
       "      <th></th>\n",
       "      <th>frequency_token_A</th>\n",
       "      <th>frequency_token_B</th>\n",
       "      <th>frequency_token_C</th>\n",
       "      <th>frequency_token_D</th>\n",
       "      <th>mean_total_tokens</th>\n",
       "    </tr>\n",
       "    <tr>\n",
       "      <th>answer</th>\n",
       "      <th></th>\n",
       "      <th></th>\n",
       "      <th></th>\n",
       "      <th></th>\n",
       "      <th></th>\n",
       "    </tr>\n",
       "  </thead>\n",
       "  <tbody>\n",
       "    <tr>\n",
       "      <th>A</th>\n",
       "      <td>0.243017</td>\n",
       "      <td>0.018932</td>\n",
       "      <td>0.025140</td>\n",
       "      <td>0.013035</td>\n",
       "      <td>93.187151</td>\n",
       "    </tr>\n",
       "    <tr>\n",
       "      <th>B</th>\n",
       "      <td>0.231947</td>\n",
       "      <td>0.019642</td>\n",
       "      <td>0.029463</td>\n",
       "      <td>0.012709</td>\n",
       "      <td>88.846332</td>\n",
       "    </tr>\n",
       "    <tr>\n",
       "      <th>C</th>\n",
       "      <td>0.226410</td>\n",
       "      <td>0.018984</td>\n",
       "      <td>0.034897</td>\n",
       "      <td>0.015355</td>\n",
       "      <td>92.653825</td>\n",
       "    </tr>\n",
       "    <tr>\n",
       "      <th>D</th>\n",
       "      <td>0.242850</td>\n",
       "      <td>0.014566</td>\n",
       "      <td>0.030985</td>\n",
       "      <td>0.014301</td>\n",
       "      <td>92.110169</td>\n",
       "    </tr>\n",
       "  </tbody>\n",
       "</table>\n",
       "</div>"
      ],
      "text/plain": [
       "        frequency_token_A  frequency_token_B  frequency_token_C  \\\n",
       "answer                                                            \n",
       "A                0.243017           0.018932           0.025140   \n",
       "B                0.231947           0.019642           0.029463   \n",
       "C                0.226410           0.018984           0.034897   \n",
       "D                0.242850           0.014566           0.030985   \n",
       "\n",
       "        frequency_token_D  mean_total_tokens  \n",
       "answer                                        \n",
       "A                0.013035          93.187151  \n",
       "B                0.012709          88.846332  \n",
       "C                0.015355          92.653825  \n",
       "D                0.014301          92.110169  "
      ]
     },
     "execution_count": 34,
     "metadata": {},
     "output_type": "execute_result"
    }
   ],
   "source": [
    "# A\n",
    "\n",
    "#for each question-answers pair add the nummber of token_A, token_B, token_C , token_D \n",
    "#and the total number of token , all the values are calculated abboce\n",
    "\n",
    "df_test['num_A_token']=A_occurrences\n",
    "df_test['num_B_token']=B_occurrences\n",
    "df_test['num_C_token']=C_occurrences\n",
    "df_test['num_D_token']=D_occurrences\n",
    "df_test['num_total_token']=number_of_total_token\n",
    "for index, row in df_test.iterrows():\n",
    "    #print(\"num of token A: {}, num of token B: {} , num of token C: {} ,  num of token D: {} ,  num of token: {} \".format(row['num_A_token'] ,row['num_B_token'] ,row['num_C_token'] ,row['num_D_token'], row['num_total_token']))\n",
    "    pass\n",
    "\n",
    "#group by correct answer\n",
    "df_test_answer=df_test.groupby('answer')[['num_A_token', 'num_B_token', 'num_C_token','num_D_token', 'num_total_token']].agg(['mean'])\n",
    "#rename columns for bettere visualizationss\n",
    "df_test_answer.columns = ['frequency_token_A', 'frequency_token_B', 'frequency_token_C', 'frequency_token_D', 'mean_total_tokens']\n",
    "\n",
    "df_test_answer\n"
   ]
  },
  {
   "cell_type": "markdown",
   "id": "3ea8a279",
   "metadata": {},
   "source": [
    "B. /Discuss:/\n",
    "\n",
    "Since the frequency of frequency_token_A frequency_token_B frequency_token_C frequency_token_D is the nearly the same regardless the correct answers, we believe they don't influence the response"
   ]
  },
  {
   "cell_type": "markdown",
   "id": "af25ef95-d2ce-4112-87f7-8b0a52755e2a",
   "metadata": {},
   "source": [
    "### 3.3 (4 pt)\n",
    "\n",
    "Three of the most important considerations when deciding between language models are:\n",
    "\n",
    "Quality\n",
    "Costs\n",
    "Speed\n",
    "\n",
    "So far, much of your analysis has focused on quality. However, the government has indicated that they are quite concerned about both the total costs and speed as well. Specifically, it has been brought to their attention that a new `turbo` model has been launched! \n",
    "\n",
    "This model is both cheaper and faster than the models you evaluated so far. However, there is a catch: the context length* is much smaller than that of the other LMS. Namely, it can only process **300** tokens during inference. Meanwhile, the other models can process up to 100K tokens! \n",
    "\n",
    "*_The “context length” refers to the number of tokens that can be given to an LM as input._\n",
    "\n",
    "A. Are there subjects where using the cheaper model might be problematic? I.e., where part of the question and answer(s) might not fit completely in the context?\n",
    "\n",
    "B. /Discuss:/ Can you think of a strategy that would balance the needs of the government?\n",
    "\n",
    "**hint**:\n",
    "- An LM needs to have both the question and the different answer options in its context"
   ]
  },
  {
   "cell_type": "code",
   "execution_count": 35,
   "id": "a88a6fa3-2735-44d7-9944-076cc9f679ed",
   "metadata": {},
   "outputs": [
    {
     "data": {
      "text/html": [
       "<div>\n",
       "<style scoped>\n",
       "    .dataframe tbody tr th:only-of-type {\n",
       "        vertical-align: middle;\n",
       "    }\n",
       "\n",
       "    .dataframe tbody tr th {\n",
       "        vertical-align: top;\n",
       "    }\n",
       "\n",
       "    .dataframe thead th {\n",
       "        text-align: right;\n",
       "    }\n",
       "</style>\n",
       "<table border=\"1\" class=\"dataframe\">\n",
       "  <thead>\n",
       "    <tr style=\"text-align: right;\">\n",
       "      <th></th>\n",
       "      <th>#_question_answers_exceed</th>\n",
       "      <th>#_question_exceed</th>\n",
       "    </tr>\n",
       "    <tr>\n",
       "      <th>subject</th>\n",
       "      <th></th>\n",
       "      <th></th>\n",
       "    </tr>\n",
       "  </thead>\n",
       "  <tbody>\n",
       "    <tr>\n",
       "      <th>college medicine</th>\n",
       "      <td>5</td>\n",
       "      <td>5</td>\n",
       "    </tr>\n",
       "    <tr>\n",
       "      <th>high school computer science</th>\n",
       "      <td>1</td>\n",
       "      <td>0</td>\n",
       "    </tr>\n",
       "    <tr>\n",
       "      <th>high school european history</th>\n",
       "      <td>93</td>\n",
       "      <td>66</td>\n",
       "    </tr>\n",
       "    <tr>\n",
       "      <th>high school statistics</th>\n",
       "      <td>1</td>\n",
       "      <td>0</td>\n",
       "    </tr>\n",
       "    <tr>\n",
       "      <th>high school us history</th>\n",
       "      <td>85</td>\n",
       "      <td>46</td>\n",
       "    </tr>\n",
       "    <tr>\n",
       "      <th>high school world history</th>\n",
       "      <td>122</td>\n",
       "      <td>92</td>\n",
       "    </tr>\n",
       "    <tr>\n",
       "      <th>professional law</th>\n",
       "      <td>315</td>\n",
       "      <td>113</td>\n",
       "    </tr>\n",
       "    <tr>\n",
       "      <th>professional medicine</th>\n",
       "      <td>14</td>\n",
       "      <td>8</td>\n",
       "    </tr>\n",
       "    <tr>\n",
       "      <th>security studies</th>\n",
       "      <td>4</td>\n",
       "      <td>0</td>\n",
       "    </tr>\n",
       "    <tr>\n",
       "      <th>virology</th>\n",
       "      <td>1</td>\n",
       "      <td>0</td>\n",
       "    </tr>\n",
       "  </tbody>\n",
       "</table>\n",
       "</div>"
      ],
      "text/plain": [
       "                              #_question_answers_exceed  #_question_exceed\n",
       "subject                                                                   \n",
       "college medicine                                      5                  5\n",
       "high school computer science                          1                  0\n",
       "high school european history                         93                 66\n",
       "high school statistics                                1                  0\n",
       "high school us history                               85                 46\n",
       "high school world history                           122                 92\n",
       "professional law                                    315                113\n",
       "professional medicine                                14                  8\n",
       "security studies                                      4                  0\n",
       "virology                                              1                  0"
      ]
     },
     "execution_count": 35,
     "metadata": {},
     "output_type": "execute_result"
    }
   ],
   "source": [
    "#add a column corresponding to the number of token contained in the questiomn\n",
    "df_test['total_token_question']=list(map(lambda x: len(x), tokenize_question))\n",
    "\n",
    "#add a column exceed_max, the value if true if the number of token in that question-answers pair exceeds the limit\n",
    "df_test['exceed_max']=df_test['num_total_token']>300\n",
    "\n",
    "#add a column question_exceed_max, the value if true if the number of token in the question only exceeds the limit\n",
    "df_test['question_exceed_max']=df_test['total_token_question']>300\n",
    "\n",
    "#group by subject and show how many question-answers pair exceed the limit buy sum exceed_max value\n",
    "df_test_subject=df_test.groupby('subject')[['exceed_max', 'question_exceed_max']].agg(['sum'])\n",
    "df_test_subject.columns = ['#_question_answers_exceed', '#_question_exceed']\n",
    "\n",
    "df_test_subject[df_test_subject['#_question_answers_exceed']>0]"
   ]
  },
  {
   "cell_type": "markdown",
   "id": "47f8a44a",
   "metadata": {},
   "source": [
    "B. /Dicsuss:/\n",
    "\n",
    "The best strategy is to use the fast model for all subjects that have short questions and answer, while the old slower model is necessary for subject that have a significant percentage of long answers and questions. The number of questions and answers that exceed the 300 tokens must be therefore confronted with the total number of questions to fully understand the relevance of those questions. If the percentage is very slow and we can afford to lose some accuracy, the government could think about dropping some questions/answers (this strictly depends on the requirements of the model)"
   ]
  },
  {
   "cell_type": "markdown",
   "id": "110f07bf-558f-467c-8f66-d88db561d455",
   "metadata": {},
   "source": [
    "### 3.4 (4 pt)\n",
    "\n",
    "/Discuss:/ The time has come to give your final recommendation on the use of LMs in education to the government! Taking into account everything you analyzed in all the preceding tasks (1, 2, and 3), please write a short recommendation consisting of 4 bullet points discussing your concerns.\n",
    "\n",
    "**hint**\n",
    "- Try to use the MECE framework: _Mutually Exclusive Collectively Exhaustive_"
   ]
  },
  {
   "cell_type": "markdown",
   "id": "434a5fa5",
   "metadata": {},
   "source": [
    "/Discuss:/\n",
    "1. For a correct analysis, data must be cleaned and tested, and models should be balanced to have an accurate view. 'Not Sure' answers or similar should be taken into account to get a full evaluation of a model.\n",
    "\n",
    "2. To get an accurate evaluation of the models, it is important to do testing on different datasets as shown in point 2.1 B)\n",
    "\n",
    "3. \n",
    "\n",
    "4. Use different models based on the requirements of the data. i.e. use the fast model for subjects that don't require long questions and answers, and the slower one only when it's needed."
   ]
  }
 ],
 "metadata": {
  "kernelspec": {
   "display_name": "Python 3 (ipykernel)",
   "language": "python",
   "name": "python3"
  },
  "language_info": {
   "codemirror_mode": {
    "name": "ipython",
    "version": 3
   },
   "file_extension": ".py",
   "mimetype": "text/x-python",
   "name": "python",
   "nbconvert_exporter": "python",
   "pygments_lexer": "ipython3",
   "version": "3.11.10"
  }
 },
 "nbformat": 4,
 "nbformat_minor": 5
}
